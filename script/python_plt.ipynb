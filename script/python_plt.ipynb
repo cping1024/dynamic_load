{
 "cells": [
  {
   "cell_type": "code",
   "execution_count": 14,
   "metadata": {},
   "outputs": [
    {
     "data": {
      "text/plain": [
       "(-0.5, 479.5, 359.5, -0.5)"
      ]
     },
     "execution_count": 14,
     "metadata": {},
     "output_type": "execute_result"
    }
   ],
   "source": [
    "# 使用matplotlib 显示图片\n",
    "\n",
    "import numpy as np\n",
    "import matplotlib.pyplot as plt\n",
    "import caffe\n",
    "import os, sys\n",
    "\n",
    "caffe_root = '/home/allen/sdb1/workspace/open_source/caffe'\n",
    "\n",
    "os.chdir(caffe_root)\n",
    "img = caffe.io.load_image('examples/images/cat.jpg')\n",
    "plt.imshow(img)\n",
    "plt.axis('on')"
   ]
  },
  {
   "cell_type": "code",
   "execution_count": 10,
   "metadata": {},
   "outputs": [
    {
     "name": "stdout",
     "output_type": "stream",
     "text": [
      "(1, 3, 360, 480)\n"
     ]
    },
    {
     "data": {
      "text/plain": [
       "(-0.5, 479.5, 359.5, -0.5)"
      ]
     },
     "execution_count": 10,
     "metadata": {},
     "output_type": "execute_result"
    }
   ],
   "source": [
    "# 定义卷积神经网络\n",
    "net = caffe.Net('examples/net_surgery/conv.prototxt', caffe.TEST)\n",
    "input_im = img[np.newaxis,:,:,:].transpose(0, 3, 1, 2)\n",
    "print(input_im.shape)\n",
    "\n",
    "net.blobs['data'].reshape(*input_im.shape)\n",
    "net.blobs['data'].data[...] = input_im\n",
    "plt.imshow(net.blobs['data'].data[0].transpose(1, 2, 0))\n",
    "plt.axis('on')\n",
    "plt.show()"
   ]
  },
  {
   "cell_type": "code",
   "execution_count": 18,
   "metadata": {},
   "outputs": [
    {
     "name": "stdout",
     "output_type": "stream",
     "text": [
      "(3, 356, 476)\n"
     ]
    }
   ],
   "source": [
    "plt.rcParams['image.cmap'] = 'gray'\n",
    "net.forward()\n",
    "print net.blobs['conv'].data[0].shape"
   ]
  },
  {
   "cell_type": "code",
   "execution_count": null,
   "metadata": {},
   "outputs": [],
   "source": []
  }
 ],
 "metadata": {
  "kernelspec": {
   "display_name": "Python 2",
   "language": "python",
   "name": "python2"
  },
  "language_info": {
   "codemirror_mode": {
    "name": "ipython",
    "version": 2
   },
   "file_extension": ".py",
   "mimetype": "text/x-python",
   "name": "python",
   "nbconvert_exporter": "python",
   "pygments_lexer": "ipython2",
   "version": "2.7.13"
  }
 },
 "nbformat": 4,
 "nbformat_minor": 2
}
